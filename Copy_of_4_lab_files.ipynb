{
  "nbformat": 4,
  "nbformat_minor": 0,
  "metadata": {
    "kernelspec": {
      "display_name": "Python 3",
      "language": "python",
      "name": "python3"
    },
    "language_info": {
      "codemirror_mode": {
        "name": "ipython",
        "version": 3
      },
      "file_extension": ".py",
      "mimetype": "text/x-python",
      "name": "python",
      "nbconvert_exporter": "python",
      "pygments_lexer": "ipython3",
      "version": "3.6.4"
    },
    "colab": {
      "name": "Copy of 4_lab_files.ipynb",
      "provenance": [],
      "collapsed_sections": [],
      "include_colab_link": true
    }
  },
  "cells": [
    {
      "cell_type": "markdown",
      "metadata": {
        "id": "view-in-github",
        "colab_type": "text"
      },
      "source": [
        "<a href=\"https://colab.research.google.com/github/harshit2804/PythonExam/blob/main/Copy_of_4_lab_files.ipynb\" target=\"_parent\"><img src=\"https://colab.research.google.com/assets/colab-badge.svg\" alt=\"Open In Colab\"/></a>"
      ]
    },
    {
      "cell_type": "markdown",
      "metadata": {
        "id": "wFWExXRzuAaG"
      },
      "source": [
        "# Experiment 4"
      ]
    },
    {
      "cell_type": "markdown",
      "metadata": {
        "id": "U2RX-2Vkt3ww"
      },
      "source": [
        "## AIM\n",
        "\n",
        "Write a Python program\n",
        "\n",
        "*   Create two new files f1 and f2\n",
        "*   Read and Display the contents of files f1 and f2\n",
        "*   Create and display the file f3 which is a combination of f1 and f2."
      ]
    },
    {
      "cell_type": "code",
      "metadata": {
        "id": "yj_uDW83U2Gn"
      },
      "source": [
        ""
      ],
      "execution_count": null,
      "outputs": []
    },
    {
      "cell_type": "markdown",
      "metadata": {
        "id": "5_WuD9MZuEEJ"
      },
      "source": [
        "## Description\n",
        "\n",
        "\n",
        "Functions used\n",
        "\n",
        "open() : this function opens a file, and returns it as file object\n",
        "\n",
        "**Syntax**\n",
        "\n",
        "open(\"file_name\", mode)\n",
        "\n",
        "write() : writes a string to a file.\n",
        "\n",
        "**Syntax**\n",
        "\n",
        "FileObject.write(str)\n",
        "\n",
        "read() : reads at most size bytes from the file. If the read hits EOF before obtaining size bytes, then it reads only available bytes.\n",
        "\n",
        "**Syntax**\n",
        "\n",
        "fileObject.read()"
      ]
    },
    {
      "cell_type": "markdown",
      "metadata": {
        "id": "tH9ZmmCtuOW2"
      },
      "source": [
        "## Program"
      ]
    },
    {
      "cell_type": "code",
      "metadata": {
        "id": "ednc7w9ihwsk"
      },
      "source": [
        "lst1 = ['Aug','Sep','Oct','Nov','Sep','Jul','Aug','Sep']\n",
        "lst2 = [1,2,3,4, 2,4,4,1]"
      ],
      "execution_count": null,
      "outputs": []
    },
    {
      "cell_type": "code",
      "metadata": {
        "id": "xrZfMCBitpk7"
      },
      "source": [
        "# Write list lst1 into file file1.txt and \n",
        "with open(\"file1.txt\", mode = \"w\") as f1:\n",
        "  for item in lst1:\n",
        "    f1.write(item + '\\n')"
      ],
      "execution_count": null,
      "outputs": []
    },
    {
      "cell_type": "code",
      "metadata": {
        "id": "X49RVmuNh5v_"
      },
      "source": [
        "# Write list lst2 into file file2.txt\n",
        "with open('file2.txt', mode = \"w\") as f2:\n",
        "  for item in lst2:\n",
        "    f2.write(f'{item}\\n')"
      ],
      "execution_count": null,
      "outputs": []
    },
    {
      "cell_type": "code",
      "metadata": {
        "id": "a2UzLpeYiAff"
      },
      "source": [
        "# deleting lst1 and lst2\n",
        "del lst1, lst2"
      ],
      "execution_count": null,
      "outputs": []
    },
    {
      "cell_type": "code",
      "metadata": {
        "id": "L5JBpvTFtwcq",
        "colab": {
          "base_uri": "https://localhost:8080/"
        },
        "outputId": "658542a3-d2be-4e53-89a4-145e4e008a97"
      },
      "source": [
        "# Read contents of file1.txt and display them\n",
        "print('Contents of file1.txt:')\n",
        "with open(\"file1.txt\", mode = 'r') as f1:\n",
        "  print(f1.read())\n"
      ],
      "execution_count": null,
      "outputs": [
        {
          "output_type": "stream",
          "name": "stdout",
          "text": [
            "Contents of file1.txt:\n",
            "Aug\n",
            "Sep\n",
            "Oct\n",
            "Nov\n",
            "Sep\n",
            "Jul\n",
            "Aug\n",
            "Sep\n",
            "\n"
          ]
        }
      ]
    },
    {
      "cell_type": "code",
      "metadata": {
        "id": "usHfRYE8uqvL",
        "colab": {
          "base_uri": "https://localhost:8080/"
        },
        "outputId": "d1d30f29-8085-4b6a-d53f-17765d89050a"
      },
      "source": [
        "# Read contents of file2.txt and display them\n",
        "print('Contents of file2.txt:')\n",
        "with open(\"file2.txt\", mode = 'r') as f2:\n",
        "  print(f2.read())\n"
      ],
      "execution_count": null,
      "outputs": [
        {
          "output_type": "stream",
          "name": "stdout",
          "text": [
            "Contents of file2.txt:\n",
            "1\n",
            "2\n",
            "3\n",
            "4\n",
            "2\n",
            "4\n",
            "4\n",
            "1\n",
            "\n"
          ]
        }
      ]
    },
    {
      "cell_type": "code",
      "metadata": {
        "colab": {
          "base_uri": "https://localhost:8080/"
        },
        "id": "SWEjeXY_cA7w",
        "outputId": "6ac87248-f69c-4b8f-b2eb-3113b6731e24"
      },
      "source": [
        "with open(\"file1.txt\", mode = \"r\") as f1:\n",
        "  with open(\"file2.txt\", mode = \"r\") as f2:\n",
        "      for i in zip(f1,f2):\n",
        "        print(i)\n",
        "  "
      ],
      "execution_count": null,
      "outputs": [
        {
          "output_type": "stream",
          "name": "stdout",
          "text": [
            "('Aug\\n', '1\\n')\n",
            "('Sep\\n', '2\\n')\n",
            "('Oct\\n', '3\\n')\n",
            "('Nov\\n', '4\\n')\n",
            "('Sep\\n', '2\\n')\n",
            "('Jul\\n', '4\\n')\n",
            "('Aug\\n', '4\\n')\n",
            "('Sep\\n', '1\\n')\n"
          ]
        }
      ]
    },
    {
      "cell_type": "code",
      "metadata": {
        "id": "3-sSwNr_vb8_",
        "colab": {
          "base_uri": "https://localhost:8080/"
        },
        "outputId": "2d5d55ee-901a-4362-9736-352c7a4ccd7c"
      },
      "source": [
        "# Create a file3.txt, which is a combination of file1.txt and file2.txt\n",
        "with open(\"file1.txt\", mode = \"r\") as f1:\n",
        "  with open(\"file2.txt\", mode = \"r\") as f2:\n",
        "    with open(\"file3.txt\", mode  = \"w\") as f3:\n",
        "      for l1,l2 in zip(f1,f2): \n",
        "                l1 = l1.strip()\n",
        "                l2 = l2.strip()\n",
        "                print(f\"{l2} {l1} 2020\", file=f3)\n",
        "\n",
        "\n",
        "# Display contents of file3.txt\n",
        "with open(\"file3.txt\", mode = \"r\") as f3:\n",
        "  print(f3.read())"
      ],
      "execution_count": null,
      "outputs": [
        {
          "output_type": "stream",
          "name": "stdout",
          "text": [
            "1 Aug 2020\n",
            "2 Sep 2020\n",
            "3 Oct 2020\n",
            "4 Nov 2020\n",
            "2 Sep 2020\n",
            "4 Jul 2020\n",
            "4 Aug 2020\n",
            "1 Sep 2020\n",
            "\n"
          ]
        }
      ]
    },
    {
      "cell_type": "code",
      "metadata": {
        "id": "4iDRGLBOxJbz",
        "colab": {
          "base_uri": "https://localhost:8080/"
        },
        "outputId": "e95cb5c5-c862-4ab7-a7eb-dd8ae04d8154"
      },
      "source": [
        "# Create a file4.txt, which is a combination of file1.txt and file2.txt\n",
        "with open(\"file1.txt\", mode = \"r\") as f1:\n",
        "  with open(\"file2.txt\", mode = \"r\") as f2:\n",
        "    with open(\"file4.txt\", mode  = \"w\") as f4:\n",
        "      for l1 in f1:\n",
        "        f4.write(f'{l1}')\n",
        "\n",
        "with open(\"file4.txt\", mode = \"a\") as f4:\n",
        "  for i in lst2:\n",
        "    f4.write(f'{i}\\n')\n",
        "                \n",
        "\n",
        "# Display contents of file4.txt\n",
        "with open(\"file4.txt\", mode = \"r\") as f4:\n",
        "  print(f4.read())"
      ],
      "execution_count": null,
      "outputs": [
        {
          "output_type": "stream",
          "name": "stdout",
          "text": [
            "Aug\n",
            "Sep\n",
            "Oct\n",
            "Nov\n",
            "Sep\n",
            "Jul\n",
            "Aug\n",
            "Sep\n",
            "1\n",
            "2\n",
            "3\n",
            "4\n",
            "2\n",
            "4\n",
            "4\n",
            "1\n",
            "\n"
          ]
        }
      ]
    },
    {
      "cell_type": "markdown",
      "metadata": {
        "id": "tn67des4vDlL"
      },
      "source": [
        "## Conclusion\n"
      ]
    },
    {
      "cell_type": "markdown",
      "metadata": {
        "id": "yjQ5OJ_Xdkc-"
      },
      "source": [
        "Hence, we have successfully created a file and then read from a file. "
      ]
    },
    {
      "cell_type": "markdown",
      "metadata": {
        "id": "CgRHDQYxdk5I"
      },
      "source": [
        "**Evaluation**\n",
        "\n",
        "<img src='https://github.com/RinkiGupta/ECE319/blob/master/res/IET%20format%20Lab%20File.PNG?raw=true'>"
      ]
    }
  ]
}